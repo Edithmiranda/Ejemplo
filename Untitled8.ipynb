{
  "nbformat": 4,
  "nbformat_minor": 0,
  "metadata": {
    "colab": {
      "name": "Untitled8.ipynb",
      "provenance": []
    },
    "kernelspec": {
      "name": "python3",
      "display_name": "Python 3"
    },
    "language_info": {
      "name": "python"
    }
  },
  "cells": [
    {
      "cell_type": "code",
      "execution_count": null,
      "metadata": {
        "colab": {
          "base_uri": "https://localhost:8080/"
        },
        "id": "7OsthS5888df",
        "outputId": "ead0f333-70ba-4915-bdc8-170143fc8c3f"
      },
      "outputs": [
        {
          "output_type": "stream",
          "name": "stdout",
          "text": [
            "Ingrese la tabla que quiera checar: 2\n",
            "La tabla es:  2 X 0 = 0\n",
            "La tabla es:  2 X 1 = 2\n",
            "La tabla es:  2 X 2 = 4\n",
            "La tabla es:  2 X 3 = 6\n",
            "La tabla es:  2 X 4 = 8\n",
            "La tabla es:  2 X 5 = 10\n",
            "La tabla es:  2 X 6 = 12\n",
            "La tabla es:  2 X 7 = 14\n",
            "La tabla es:  2 X 8 = 16\n",
            "La tabla es:  2 X 9 = 18\n",
            "La tabla es:  2 X 10 = 20\n"
          ]
        }
      ],
      "source": [
        "resp=0\n",
        "tab=int(input('Ingrese la tabla que quiera checar: '))\n",
        "for i in range (0,11):\n",
        "  resp=tab*i\n",
        "  print('La tabla es: ',tab,'X',i,'=',resp)\n"
      ]
    }
  ]
}